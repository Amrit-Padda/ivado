{
 "cells": [
  {
   "cell_type": "code",
   "execution_count": null,
   "metadata": {},
   "outputs": [],
   "source": [
    "from scraper import get_museum_data\n",
    "import pandas as pd\n",
    "import os\n",
    "from pathlib import Path\n",
    "\n",
    "museum_df = get_museum_data()\n",
    "\n",
    "print(\"Museum Data\")\n",
    "print(museum_df.to_string(max_rows=5))"
   ]
  },
  {
   "cell_type": "code",
   "execution_count": null,
   "metadata": {},
   "outputs": [],
   "source": [
    "# Dataset downloaded from https://www.kaggle.com/datasets/dataanalyst001/world-population-growth-rate-by-cities-2024\n",
    "# Cached locally since it is very small\n",
    "city_df = pd.read_csv(os.path.abspath('../data/population_data.csv'))\n",
    "print(\"City Data\")\n",
    "print(city_df.to_string(max_rows=5))"
   ]
  },
  {
   "cell_type": "markdown",
   "metadata": {},
   "source": [
    "### Here we assume all museum data is from 2023 and will try to predict the visitors for 2024\n",
    "The wikipedia table has visitor data from both 2024 and 2023, however I was only able to find population growth values for 2023-2024. \n",
    "Therefore in order to simplify the model training, I am treating all the museum data as being from 2023, and using population data from\n",
    "2023 and 2024. "
   ]
  },
  {
   "cell_type": "code",
   "execution_count": null,
   "metadata": {},
   "outputs": [],
   "source": [
    "joined_data = museum_df.merge(city_df, left_on='city', right_on='City')\n",
    "joined_data = joined_data[['name', 'type', 'collection_size', 'visitors', 'city', 'Population_2024', 'Population_2023', 'Growth Rate']]\n",
    "\n",
    "\n",
    "# Some cleaning of the data to prepare for model training\n",
    "mean_items = joined_data['collection_size'].mean()\n",
    "joined_data['collection_size'] = joined_data['collection_size'].fillna(mean_items)\n",
    "joined_data['collection_size'] = joined_data['collection_size'].astype('int64')\n",
    "\n",
    "mode_type = joined_data['type'].mode()\n",
    "joined_data['type'] = joined_data['type'].fillna(mode_type.iloc[0])\n",
    "\n",
    "print(joined_data.to_string(max_rows=5))"
   ]
  },
  {
   "cell_type": "markdown",
   "metadata": {},
   "source": [
    "### Here we begin preparing the data for model training\n",
    "A key assumption/simplification made is that the real 2024 visitor values are just the 2023 values multiplied by the city growth rate.\n",
    "This estimated 2024 value is used to validate the model predicted output."
   ]
  },
  {
   "cell_type": "code",
   "execution_count": null,
   "metadata": {},
   "outputs": [],
   "source": [
    "from sklearn.preprocessing import LabelEncoder\n",
    "\n",
    "# Creating data for 2024 by multiplying visitors by the growth rate of the city\n",
    "joined_data[\"visitors_2024\"] = joined_data[\"visitors\"] * (1 + joined_data[\"Growth Rate\"])\n",
    "joined_data[\"visitors_2024\"] = joined_data[\"visitors_2024\"].round().astype('int64')\n",
    "\n",
    "# Encoding features, but keeping a copy of the df for validation later\n",
    "encoder = LabelEncoder()\n",
    "data_copy = joined_data.copy()\n",
    "joined_data['type'] = encoder.fit_transform(joined_data['type'])\n",
    "joined_data['city'] = encoder.fit_transform(joined_data['city'])\n",
    "\n",
    "print(joined_data.to_string(max_rows=5))"
   ]
  },
  {
   "cell_type": "code",
   "execution_count": null,
   "metadata": {},
   "outputs": [],
   "source": [
    "from sklearn.model_selection import train_test_split\n",
    "\n",
    "# Splitting features (X) and target variable (Y)\n",
    "# The museum name is used solely for identification so we exclude it from encoding.\n",
    "X = joined_data.drop(columns=['name', 'visitors_2024'], axis=1)\n",
    "Y = joined_data['visitors_2024']\n",
    "\n",
    "# Splitting the data into training and testing sets\n",
    "X_train, X_test, Y_train, Y_test = train_test_split(X, Y, test_size=0.1, random_state=2)"
   ]
  },
  {
   "cell_type": "code",
   "execution_count": null,
   "metadata": {},
   "outputs": [],
   "source": [
    "from xgboost import XGBRegressor\n",
    "from sklearn import metrics\n",
    "\n",
    "# Training model\n",
    "regressor = XGBRegressor()\n",
    "regressor.fit(X_train, Y_train)"
   ]
  },
  {
   "cell_type": "code",
   "execution_count": null,
   "metadata": {},
   "outputs": [],
   "source": [
    "# Testing model on training data\n",
    "training_data_prediction = regressor.predict(X_train)\n",
    "r2_train = metrics.r2_score(Y_train, training_data_prediction)\n",
    "print('R Squared (Training Data) = ', r2_train)"
   ]
  },
  {
   "cell_type": "code",
   "execution_count": null,
   "metadata": {},
   "outputs": [],
   "source": [
    "# Evaluate model on test data\n",
    "test_data_prediction = regressor.predict(X_test)\n",
    "r2_test = metrics.r2_score(Y_test, test_data_prediction)\n",
    "print('R Squared (Test Data) = ', r2_test)"
   ]
  },
  {
   "cell_type": "code",
   "execution_count": null,
   "metadata": {},
   "outputs": [],
   "source": [
    "# Predicting values using full dataset\n",
    "prediction = regressor.predict(X)\n",
    "data_copy['predicted_2024'] = prediction\n",
    "data_copy['delta'] = data_copy['predicted_2024'] - data_copy['visitors_2024']\n",
    "data_copy = data_copy[['name', 'city', 'Growth Rate', 'visitors', 'visitors_2024', 'predicted_2024', 'delta']]\n",
    "print(data_copy.to_string())"
   ]
  }
 ],
 "metadata": {
  "kernelspec": {
   "display_name": "Python 3",
   "language": "python",
   "name": "python3"
  },
  "language_info": {
   "codemirror_mode": {
    "name": "ipython",
    "version": 3
   },
   "file_extension": ".py",
   "mimetype": "text/x-python",
   "name": "python",
   "nbconvert_exporter": "python",
   "pygments_lexer": "ipython3",
   "version": "3.9.7"
  }
 },
 "nbformat": 4,
 "nbformat_minor": 2
}
